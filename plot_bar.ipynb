{
 "cells": [
  {
   "cell_type": "code",
   "execution_count": 2,
   "metadata": {
    "collapsed": true
   },
   "outputs": [],
   "source": [
    "from pylab import *\n",
    "\n"
   ]
  },
  {
   "cell_type": "code",
   "execution_count": 3,
   "metadata": {},
   "outputs": [
    {
     "data": {
      "image/png": "[encoded data removed]",
      "text/plain": [
       "<matplotlib.figure.Figure at 0x7f22ac38f630>"
      ]
     },
     "metadata": {},
     "output_type": "display_data"
    }
   ],
   "source": [
    "pos = arange(4)#-.5    # the bar centers on the y axis\n",
    "matplotlib.rcParams.update({'font.size': 16})\n",
    "\n",
    "#figure(1)\n",
    "#figure(figsize=(20,10))\n",
    "val = [.37, .51, .91, .60][::-1]\n",
    "barh(pos, val, align='center')\n",
    "yticks(pos, ['Criança (até 12 anos)', 'Adolescente (13 anos até 19 anos)', \n",
    "             'Adulto (20 anos até 60 anos)', 'Idoso (depois dos 60 anos)'][::-1])\n",
    "xlabel('Acurácia')\n",
    "grid(True)\n",
    "\n",
    "\n",
    "#figure(2)\n",
    "\n",
    "\n",
    "show()"
   ]
  },
  {
   "cell_type": "code",
   "execution_count": 19,
   "metadata": {},
   "outputs": [
    {
     "data": {
      "text/plain": [
       "array([ 0.5,  1.5,  2.5,  3.5])"
      ]
     },
     "execution_count": 19,
     "metadata": {},
     "output_type": "execute_result"
    }
   ],
   "source": [
    "pos"
   ]
  },
  {
   "cell_type": "code",
   "execution_count": 11,
   "metadata": {},
   "outputs": [
    {
     "data": {
      "text/plain": [
       "array([  6.06186036,  11.5624606 ,  11.46829839,  11.8465792 ,  12.52430147])"
      ]
     },
     "execution_count": 11,
     "metadata": {},
     "output_type": "execute_result"
    }
   ],
   "source": [
    "val"
   ]
  },
  {
   "cell_type": "code",
   "execution_count": 14,
   "metadata": {},
   "outputs": [
    {
     "data": {
      "text/plain": [
       "array([ 0.53,  0.62,  0.91,  0.7 ])"
      ]
     },
     "execution_count": 14,
     "metadata": {},
     "output_type": "execute_result"
    }
   ],
   "source": [
    "val"
   ]
  },
  {
   "cell_type": "code",
   "execution_count": 28,
   "metadata": {
    "collapsed": true
   },
   "outputs": [],
   "source": [
    "['Criança (até 12 anos)', 'Adolescente (12 anos até 18 anos)', \n",
    "             'Adulto (18 anos até 60 anos)', 'Idoso (depois dos 60 anos)'].reverse()"
   ]
  },
  {
   "cell_type": "code",
   "execution_count": 44,
   "metadata": {},
   "outputs": [
    {
     "data": {
      "text/plain": [
       "['Idoso (depois dos 60 anos)',\n",
       " 'Adulto (18 anos até 60 anos)',\n",
       " 'Adolescente (12 anos até 18 anos)',\n",
       " 'Criança (até 12 anos)']"
      ]
     },
     "execution_count": 44,
     "metadata": {},
     "output_type": "execute_result"
    }
   ],
   "source": [
    "['Criança (até 12 anos)', 'Adolescente (12 anos até 18 anos)', \n",
    "             'Adulto (18 anos até 60 anos)', 'Idoso (depois dos 60 anos)'][::-1]"
   ]
  }
 ],
 "metadata": {
  "kernelspec": {
   "display_name": "Python 3",
   "language": "python",
   "name": "python3"
  },
  "language_info": {
   "codemirror_mode": {
    "name": "ipython",
    "version": 3
   },
   "file_extension": ".py",
   "mimetype": "text/x-python",
   "name": "python",
   "nbconvert_exporter": "python",
   "pygments_lexer": "ipython3",
   "version": "3.6.0"
  }
 },
 "nbformat": 4,
 "nbformat_minor": 2
}
